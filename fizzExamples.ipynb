{
 "metadata": {
  "language_info": {
   "codemirror_mode": {
    "name": "ipython",
    "version": 3
   },
   "file_extension": ".py",
   "mimetype": "text/x-python",
   "name": "python",
   "nbconvert_exporter": "python",
   "pygments_lexer": "ipython3",
   "version": "3.7.6-final"
  },
  "orig_nbformat": 2,
  "kernelspec": {
   "name": "python3",
   "display_name": "Python 3",
   "language": "python"
  }
 },
 "nbformat": 4,
 "nbformat_minor": 2,
 "cells": [
  {
   "cell_type": "code",
   "execution_count": 5,
   "metadata": {},
   "outputs": [
    {
     "output_type": "stream",
     "name": "stdout",
     "text": [
      "<Managed Device 0> <CUDA device 0 'b'GeForce GTX 1080''>\n"
     ]
    }
   ],
   "source": [
    "from numba import cuda\n",
    "from numba import jit\n",
    "import numpy as np\n",
    "import time\n",
    "\n",
    "print(cuda.gpus, cuda.get_current_device())"
   ]
  },
  {
   "cell_type": "code",
   "execution_count": 51,
   "metadata": {},
   "outputs": [],
   "source": [
    "fbSet = np.array(['FizzBuzz',\n",
    " '-',\n",
    " '-',\n",
    " 'Fizz',\n",
    " '-',\n",
    " 'Buzz',\n",
    " 'Fizz',\n",
    " '-',\n",
    " '-',\n",
    " 'Fizz',\n",
    " 'Buzz',\n",
    " '-',\n",
    " 'Fizz',\n",
    " '-',\n",
    " '-'])"
   ]
  },
  {
   "source": [
    "%%timeit\n",
    "\n",
    "outputLength = 7000001\n",
    "modset = np.arange(outputLength) % 15\n",
    "\n",
    "fbSet.ravel()[modset.ravel()]\n"
   ],
   "cell_type": "code",
   "metadata": {},
   "execution_count": 52,
   "outputs": [
    {
     "output_type": "stream",
     "name": "stdout",
     "text": [
      "135 ms ± 1.02 ms per loop (mean ± std. dev. of 7 runs, 10 loops each)\n"
     ]
    }
   ]
  },
  {
   "cell_type": "code",
   "execution_count": 53,
   "metadata": {},
   "outputs": [],
   "source": [
    "def genBuzzList(n=15):\n",
    "    buzz = [\"0\"]\n",
    "    for i in range(1,n+1):\n",
    "        if i % 15 == 0:\n",
    "            buzz.append(\"FizzBuzz\")\n",
    "        elif i % 5 == 0:\n",
    "            buzz.append(\"Buzz\")\n",
    "        elif i % 3 == 0:\n",
    "            buzz.append(\"Fizz\")\n",
    "        else:\n",
    "            buzz.append(\"-\")\n",
    "    return buzz\n",
    "cachedFizz = genBuzzList()"
   ]
  },
  {
   "cell_type": "code",
   "execution_count": 47,
   "metadata": {},
   "outputs": [],
   "source": [
    "def cachedLookup(l=cachedFizz,n=7000001):\n",
    "    return [l[i % 15] for i in range(n)]\n"
   ]
  },
  {
   "cell_type": "code",
   "execution_count": 48,
   "metadata": {},
   "outputs": [
    {
     "output_type": "stream",
     "name": "stdout",
     "text": [
      "639 ms ± 2.33 ms per loop (mean ± std. dev. of 7 runs, 1 loop each)\n"
     ]
    }
   ],
   "source": [
    "%%timeit \n",
    "cachedLookup()"
   ]
  },
  {
   "cell_type": "code",
   "execution_count": null,
   "metadata": {},
   "outputs": [],
   "source": []
  }
 ]
}